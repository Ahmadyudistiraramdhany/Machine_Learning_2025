{
 "cells": [
  {
   "cell_type": "code",
   "execution_count": 10,
   "id": "93255199",
   "metadata": {},
   "outputs": [
    {
     "name": "stdout",
     "output_type": "stream",
     "text": [
      "   instant      dteday  season  temp   hum  windspeed\n",
      "0        1  2011-01-01       1  0.24  0.81        0.0\n",
      "1        2  2011-01-01       1  0.22  0.80        0.0\n",
      "2        3  2011-01-01       1  0.22  0.80        0.0\n",
      "3        4  2011-01-01       1  0.24  0.75        0.0\n",
      "4        5  2011-01-01       1  0.24  0.75        0.0\n"
     ]
    }
   ],
   "source": [
    "import pandas as pd \n",
    "\n",
    "# Read the CSV file with a comma delimiter\n",
    "df = pd.read_csv('../data/hour.csv' , sep=',')\n",
    "\n",
    "df1 = df[['instant', 'dteday', 'season', 'temp', 'hum', 'windspeed']]\n",
    "\n",
    "# cetak header data (5 baris dsta) dari file\n",
    "print(df1.head())\n",
    "\n",
    "# Menyimpan dataframe ke csv\n",
    "df1.to_csv('latihan01.csv', index=False)"
   ]
  }
 ],
 "metadata": {
  "kernelspec": {
   "display_name": "Python 3",
   "language": "python",
   "name": "python3"
  },
  "language_info": {
   "codemirror_mode": {
    "name": "ipython",
    "version": 3
   },
   "file_extension": ".py",
   "mimetype": "text/x-python",
   "name": "python",
   "nbconvert_exporter": "python",
   "pygments_lexer": "ipython3",
   "version": "3.13.7"
  }
 },
 "nbformat": 4,
 "nbformat_minor": 5
}
